{
  "metadata": {
    "kernelspec": {
      "name": "python",
      "display_name": "Pyolite",
      "language": "python"
    },
    "language_info": {
      "codemirror_mode": {
        "name": "python",
        "version": 3
      },
      "file_extension": ".py",
      "mimetype": "text/x-python",
      "name": "python",
      "nbconvert_exporter": "python",
      "pygments_lexer": "ipython3",
      "version": "3.8"
    }
  },
  "nbformat_minor": 4,
  "nbformat": 4,
  "cells": [
    {
      "cell_type": "markdown",
      "source": "<center>\n    <img src=\"https://s3-api.us-geo.objectstorage.softlayer.net/cf-courses-data/CognitiveClass/Logos/organization_logo/organization_logo.png\" width=\"300\" alt=\"cognitiveclass.ai logo\"  />\n</center>\n",
      "metadata": {}
    },
    {
      "cell_type": "markdown",
      "source": "#### Add your code below following the instructions given in the course\n",
      "metadata": {}
    },
    {
      "cell_type": "markdown",
      "source": "## My Jupiter NoteBook on IBM Watson Studio",
      "metadata": {}
    },
    {
      "cell_type": "markdown",
      "source": "<b>Lowri Lewis</b>\n<br> Desired occupation: Bioinformatician/Data analyst",
      "metadata": {
        "tags": []
      }
    },
    {
      "cell_type": "markdown",
      "source": "<i> I am interested in data science as I think its fascinating to extract so much meaningful information from datasets containing seemingly uninteresting information. I enjoy coding and am hoping to use my newfound skills in both business and healthcare (purely for interest reasons... I don't need to change the world!)</i>",
      "metadata": {
        "tags": []
      }
    },
    {
      "cell_type": "markdown",
      "source": "### The code in cell 5 aims to conquer an impossible addition",
      "metadata": {
        "tags": []
      }
    },
    {
      "cell_type": "code",
      "source": "1+1",
      "metadata": {
        "trusted": true
      },
      "execution_count": 1,
      "outputs": [
        {
          "execution_count": 1,
          "output_type": "execute_result",
          "data": {
            "text/plain": "2"
          },
          "metadata": {}
        }
      ]
    },
    {
      "cell_type": "markdown",
      "source": "|Animal|Number of legs|Cuteness factor (0-10)|\n|---|---|---|\n|Dog|4|10|\n|Guinea Pig|4|10|\n|Chicken|2|3|\n|Dolphin|0|8|\n\n![Cute dog](https://kb.rspca.org.au/wp-content/uploads/2018/11/golder-retriever-puppy.jpeg)\n\n[This is a cool website](http://url)\n\n#### What I have included in this cell:\n- table\n- image\n- hyperlink\n- h4 heading\n- bulleted list",
      "metadata": {
        "tags": []
      }
    },
    {
      "cell_type": "code",
      "source": "",
      "metadata": {
        "jupyter": {
          "source_hidden": true
        },
        "tags": []
      },
      "execution_count": null,
      "outputs": []
    }
  ]
}